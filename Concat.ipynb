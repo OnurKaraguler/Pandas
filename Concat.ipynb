{
 "cells": [
  {
   "cell_type": "code",
   "execution_count": 4,
   "metadata": {},
   "outputs": [],
   "source": [
    "import pandas as pd"
   ]
  },
  {
   "cell_type": "code",
   "execution_count": 5,
   "metadata": {},
   "outputs": [],
   "source": [
    "tuesday = pd.Series({'lab1': '1.30', 'lab2': '1.35',\n",
    "                    'lab3': '1.20', 'lab4': '1.40'})"
   ]
  },
  {
   "cell_type": "code",
   "execution_count": 6,
   "metadata": {},
   "outputs": [],
   "source": [
    "wednesday = pd.Series({'lab1': '1.20', 'lab2': '1.15',\n",
    "                    'lab3': '1.30', 'lab4': '1.20'})"
   ]
  },
  {
   "cell_type": "code",
   "execution_count": 7,
   "metadata": {},
   "outputs": [
    {
     "data": {
      "text/plain": [
       "lab1    1.30\n",
       "lab2    1.35\n",
       "lab3    1.20\n",
       "lab4    1.40\n",
       "lab1    1.20\n",
       "lab2    1.15\n",
       "lab3    1.30\n",
       "lab4    1.20\n",
       "dtype: object"
      ]
     },
     "execution_count": 7,
     "metadata": {},
     "output_type": "execute_result"
    }
   ],
   "source": [
    "laps = pd.concat([tuesday, wednesday])\n",
    "laps"
   ]
  },
  {
   "cell_type": "code",
   "execution_count": 8,
   "metadata": {},
   "outputs": [
    {
     "data": {
      "text/plain": [
       "0    1.30\n",
       "1    1.35\n",
       "2    1.20\n",
       "3    1.40\n",
       "4    1.20\n",
       "5    1.15\n",
       "6    1.30\n",
       "7    1.20\n",
       "dtype: object"
      ]
     },
     "execution_count": 8,
     "metadata": {},
     "output_type": "execute_result"
    }
   ],
   "source": [
    "laps = pd.concat([tuesday, wednesday], ignore_index=True)\n",
    "laps"
   ]
  },
  {
   "cell_type": "code",
   "execution_count": 10,
   "metadata": {},
   "outputs": [
    {
     "data": {
      "text/plain": [
       "tuesday    lab1    1.30\n",
       "           lab2    1.35\n",
       "           lab3    1.20\n",
       "           lab4    1.40\n",
       "wednesday  lab1    1.20\n",
       "           lab2    1.15\n",
       "           lab3    1.30\n",
       "           lab4    1.20\n",
       "dtype: object"
      ]
     },
     "execution_count": 10,
     "metadata": {},
     "output_type": "execute_result"
    }
   ],
   "source": [
    "laps = pd.concat([tuesday, wednesday], keys=['tuesday', 'wednesday'])\n",
    "laps"
   ]
  },
  {
   "cell_type": "code",
   "execution_count": 16,
   "metadata": {},
   "outputs": [
    {
     "data": {
      "text/html": [
       "<div>\n",
       "<style scoped>\n",
       "    .dataframe tbody tr th:only-of-type {\n",
       "        vertical-align: middle;\n",
       "    }\n",
       "\n",
       "    .dataframe tbody tr th {\n",
       "        vertical-align: top;\n",
       "    }\n",
       "\n",
       "    .dataframe thead th {\n",
       "        text-align: right;\n",
       "    }\n",
       "</style>\n",
       "<table border=\"1\" class=\"dataframe\">\n",
       "  <thead>\n",
       "    <tr style=\"text-align: right;\">\n",
       "      <th></th>\n",
       "      <th>John</th>\n",
       "      <th>Ashley</th>\n",
       "    </tr>\n",
       "  </thead>\n",
       "  <tbody>\n",
       "    <tr>\n",
       "      <th>lap1</th>\n",
       "      <td>1.30</td>\n",
       "      <td>1.20</td>\n",
       "    </tr>\n",
       "    <tr>\n",
       "      <th>lap2</th>\n",
       "      <td>1.35</td>\n",
       "      <td>1.15</td>\n",
       "    </tr>\n",
       "    <tr>\n",
       "      <th>lap3</th>\n",
       "      <td>1.20</td>\n",
       "      <td>1.30</td>\n",
       "    </tr>\n",
       "  </tbody>\n",
       "</table>\n",
       "</div>"
      ],
      "text/plain": [
       "      John Ashley\n",
       "lap1  1.30   1.20\n",
       "lap2  1.35   1.15\n",
       "lap3  1.20   1.30"
      ]
     },
     "execution_count": 16,
     "metadata": {},
     "output_type": "execute_result"
    }
   ],
   "source": [
    "john = pd.DataFrame(['1.30','1.35','1.20'],\n",
    "                   columns=['John'],\n",
    "                   index=['lap1', 'lap2', 'lap3'])\n",
    "ashley = pd.DataFrame(['1.20','1.15','1.30'],\n",
    "                   columns=['Ashley'],\n",
    "                   index=['lap1', 'lap2', 'lap3'])\n",
    "\n",
    "runners = pd.concat([john, ashley], axis=1)\n",
    "runners"
   ]
  },
  {
   "cell_type": "code",
   "execution_count": 17,
   "metadata": {},
   "outputs": [
    {
     "data": {
      "text/html": [
       "<div>\n",
       "<style scoped>\n",
       "    .dataframe tbody tr th:only-of-type {\n",
       "        vertical-align: middle;\n",
       "    }\n",
       "\n",
       "    .dataframe tbody tr th {\n",
       "        vertical-align: top;\n",
       "    }\n",
       "\n",
       "    .dataframe thead th {\n",
       "        text-align: right;\n",
       "    }\n",
       "</style>\n",
       "<table border=\"1\" class=\"dataframe\">\n",
       "  <thead>\n",
       "    <tr style=\"text-align: right;\">\n",
       "      <th></th>\n",
       "      <th>John</th>\n",
       "      <th>Ashley</th>\n",
       "    </tr>\n",
       "  </thead>\n",
       "  <tbody>\n",
       "    <tr>\n",
       "      <th>lap1</th>\n",
       "      <td>1.30</td>\n",
       "      <td>1.20</td>\n",
       "    </tr>\n",
       "    <tr>\n",
       "      <th>lap2</th>\n",
       "      <td>1.35</td>\n",
       "      <td>1.15</td>\n",
       "    </tr>\n",
       "    <tr>\n",
       "      <th>lap3</th>\n",
       "      <td>1.20</td>\n",
       "      <td>1.30</td>\n",
       "    </tr>\n",
       "    <tr>\n",
       "      <th>lap4</th>\n",
       "      <td>NaN</td>\n",
       "      <td>1.15</td>\n",
       "    </tr>\n",
       "  </tbody>\n",
       "</table>\n",
       "</div>"
      ],
      "text/plain": [
       "      John Ashley\n",
       "lap1  1.30   1.20\n",
       "lap2  1.35   1.15\n",
       "lap3  1.20   1.30\n",
       "lap4   NaN   1.15"
      ]
     },
     "execution_count": 17,
     "metadata": {},
     "output_type": "execute_result"
    }
   ],
   "source": [
    "john = pd.DataFrame(['1.30','1.35','1.20'],\n",
    "                   columns=['John'],\n",
    "                   index=['lap1', 'lap2', 'lap3'])\n",
    "ashley = pd.DataFrame(['1.20','1.15','1.30', '1.15'],\n",
    "                   columns=['Ashley'],\n",
    "                   index=['lap1', 'lap2', 'lap3', 'lap4'])\n",
    "\n",
    "runners = pd.concat([john, ashley], axis=1)\n",
    "runners"
   ]
  },
  {
   "cell_type": "code",
   "execution_count": 18,
   "metadata": {},
   "outputs": [
    {
     "data": {
      "text/html": [
       "<div>\n",
       "<style scoped>\n",
       "    .dataframe tbody tr th:only-of-type {\n",
       "        vertical-align: middle;\n",
       "    }\n",
       "\n",
       "    .dataframe tbody tr th {\n",
       "        vertical-align: top;\n",
       "    }\n",
       "\n",
       "    .dataframe thead th {\n",
       "        text-align: right;\n",
       "    }\n",
       "</style>\n",
       "<table border=\"1\" class=\"dataframe\">\n",
       "  <thead>\n",
       "    <tr style=\"text-align: right;\">\n",
       "      <th></th>\n",
       "      <th>John</th>\n",
       "      <th>Ashley</th>\n",
       "    </tr>\n",
       "  </thead>\n",
       "  <tbody>\n",
       "    <tr>\n",
       "      <th>lap1</th>\n",
       "      <td>1.30</td>\n",
       "      <td>1.20</td>\n",
       "    </tr>\n",
       "    <tr>\n",
       "      <th>lap2</th>\n",
       "      <td>1.35</td>\n",
       "      <td>1.15</td>\n",
       "    </tr>\n",
       "    <tr>\n",
       "      <th>lap3</th>\n",
       "      <td>1.20</td>\n",
       "      <td>1.30</td>\n",
       "    </tr>\n",
       "  </tbody>\n",
       "</table>\n",
       "</div>"
      ],
      "text/plain": [
       "      John Ashley\n",
       "lap1  1.30   1.20\n",
       "lap2  1.35   1.15\n",
       "lap3  1.20   1.30"
      ]
     },
     "execution_count": 18,
     "metadata": {},
     "output_type": "execute_result"
    }
   ],
   "source": [
    "john = pd.DataFrame(['1.30','1.35','1.20'],\n",
    "                   columns=['John'],\n",
    "                   index=['lap1', 'lap2', 'lap3'])\n",
    "ashley = pd.DataFrame(['1.20','1.15','1.30', '1.15'],\n",
    "                   columns=['Ashley'],\n",
    "                   index=['lap1', 'lap2', 'lap3', 'lap4'])\n",
    "\n",
    "runners = pd.concat([john, ashley], axis=1, join='inner')\n",
    "runners"
   ]
  },
  {
   "cell_type": "code",
   "execution_count": null,
   "metadata": {},
   "outputs": [],
   "source": []
  }
 ],
 "metadata": {
  "kernelspec": {
   "display_name": "Python 3",
   "language": "python",
   "name": "python3"
  },
  "language_info": {
   "codemirror_mode": {
    "name": "ipython",
    "version": 3
   },
   "file_extension": ".py",
   "mimetype": "text/x-python",
   "name": "python",
   "nbconvert_exporter": "python",
   "pygments_lexer": "ipython3",
   "version": "3.8.0"
  }
 },
 "nbformat": 4,
 "nbformat_minor": 4
}
